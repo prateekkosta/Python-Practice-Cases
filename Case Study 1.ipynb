{
 "cells": [
  {
   "cell_type": "code",
   "execution_count": 1,
   "id": "c5012b2d",
   "metadata": {},
   "outputs": [],
   "source": [
    "import pandas as pd\n",
    "import numpy as np\n",
    "import matplotlib.pyplot as plt\n",
    "import seaborn as sns\n",
    "import warnings\n",
    "warnings.filterwarnings(\"ignore\")"
   ]
  },
  {
   "cell_type": "markdown",
   "id": "20f2bcaf",
   "metadata": {},
   "source": [
    "#### 1. Read the given comma separated values as dataframe (investments.csv)"
   ]
  },
  {
   "cell_type": "code",
   "execution_count": 2,
   "id": "7c76d0f9",
   "metadata": {},
   "outputs": [],
   "source": [
    "invest= pd.read_csv('investments.csv')\n",
    "# invest.head()"
   ]
  },
  {
   "cell_type": "code",
   "execution_count": 3,
   "id": "7d8d68c3",
   "metadata": {},
   "outputs": [
    {
     "data": {
      "text/html": [
       "<div>\n",
       "<style scoped>\n",
       "    .dataframe tbody tr th:only-of-type {\n",
       "        vertical-align: middle;\n",
       "    }\n",
       "\n",
       "    .dataframe tbody tr th {\n",
       "        vertical-align: top;\n",
       "    }\n",
       "\n",
       "    .dataframe thead th {\n",
       "        text-align: right;\n",
       "    }\n",
       "</style>\n",
       "<table border=\"1\" class=\"dataframe\">\n",
       "  <thead>\n",
       "    <tr style=\"text-align: right;\">\n",
       "      <th></th>\n",
       "      <th>funding_rounds</th>\n",
       "      <th>founded_year</th>\n",
       "      <th>debt_financing</th>\n",
       "      <th>grant</th>\n",
       "    </tr>\n",
       "  </thead>\n",
       "  <tbody>\n",
       "    <tr>\n",
       "      <th>count</th>\n",
       "      <td>49438.000000</td>\n",
       "      <td>38482.000000</td>\n",
       "      <td>4.943800e+04</td>\n",
       "      <td>4.943800e+04</td>\n",
       "    </tr>\n",
       "    <tr>\n",
       "      <th>mean</th>\n",
       "      <td>1.696205</td>\n",
       "      <td>2007.359129</td>\n",
       "      <td>1.888157e+06</td>\n",
       "      <td>1.628453e+05</td>\n",
       "    </tr>\n",
       "    <tr>\n",
       "      <th>std</th>\n",
       "      <td>1.294213</td>\n",
       "      <td>7.579203</td>\n",
       "      <td>1.382046e+08</td>\n",
       "      <td>5.612088e+06</td>\n",
       "    </tr>\n",
       "    <tr>\n",
       "      <th>min</th>\n",
       "      <td>1.000000</td>\n",
       "      <td>1902.000000</td>\n",
       "      <td>0.000000e+00</td>\n",
       "      <td>0.000000e+00</td>\n",
       "    </tr>\n",
       "    <tr>\n",
       "      <th>25%</th>\n",
       "      <td>1.000000</td>\n",
       "      <td>2006.000000</td>\n",
       "      <td>0.000000e+00</td>\n",
       "      <td>0.000000e+00</td>\n",
       "    </tr>\n",
       "    <tr>\n",
       "      <th>50%</th>\n",
       "      <td>1.000000</td>\n",
       "      <td>2010.000000</td>\n",
       "      <td>0.000000e+00</td>\n",
       "      <td>0.000000e+00</td>\n",
       "    </tr>\n",
       "    <tr>\n",
       "      <th>75%</th>\n",
       "      <td>2.000000</td>\n",
       "      <td>2012.000000</td>\n",
       "      <td>0.000000e+00</td>\n",
       "      <td>0.000000e+00</td>\n",
       "    </tr>\n",
       "    <tr>\n",
       "      <th>max</th>\n",
       "      <td>18.000000</td>\n",
       "      <td>2014.000000</td>\n",
       "      <td>3.007950e+10</td>\n",
       "      <td>7.505000e+08</td>\n",
       "    </tr>\n",
       "  </tbody>\n",
       "</table>\n",
       "</div>"
      ],
      "text/plain": [
       "       funding_rounds  founded_year  debt_financing         grant\n",
       "count    49438.000000  38482.000000    4.943800e+04  4.943800e+04\n",
       "mean         1.696205   2007.359129    1.888157e+06  1.628453e+05\n",
       "std          1.294213      7.579203    1.382046e+08  5.612088e+06\n",
       "min          1.000000   1902.000000    0.000000e+00  0.000000e+00\n",
       "25%          1.000000   2006.000000    0.000000e+00  0.000000e+00\n",
       "50%          1.000000   2010.000000    0.000000e+00  0.000000e+00\n",
       "75%          2.000000   2012.000000    0.000000e+00  0.000000e+00\n",
       "max         18.000000   2014.000000    3.007950e+10  7.505000e+08"
      ]
     },
     "execution_count": 3,
     "metadata": {},
     "output_type": "execute_result"
    }
   ],
   "source": [
    "invest.describe()"
   ]
  },
  {
   "cell_type": "markdown",
   "id": "dec67e42",
   "metadata": {},
   "source": [
    "#### 2. List out all column names. "
   ]
  },
  {
   "cell_type": "code",
   "execution_count": 4,
   "id": "ef01e26e",
   "metadata": {},
   "outputs": [
    {
     "data": {
      "text/plain": [
       "Index(['name', 'homepage_url', 'category_list', 'market', 'funding_total_usd',\n",
       "       'status', 'country_code', 'state_code', 'region', 'city',\n",
       "       'funding_rounds', 'founded_year', 'debt_financing', 'grant'],\n",
       "      dtype='object')"
      ]
     },
     "execution_count": 4,
     "metadata": {},
     "output_type": "execute_result"
    }
   ],
   "source": [
    "invest.keys()"
   ]
  },
  {
   "cell_type": "markdown",
   "id": "662b3356",
   "metadata": {},
   "source": [
    "#### 3. Create a dataframe with numerical columns"
   ]
  },
  {
   "cell_type": "code",
   "execution_count": 5,
   "id": "9a3dcba1",
   "metadata": {},
   "outputs": [
    {
     "data": {
      "text/html": [
       "<div>\n",
       "<style scoped>\n",
       "    .dataframe tbody tr th:only-of-type {\n",
       "        vertical-align: middle;\n",
       "    }\n",
       "\n",
       "    .dataframe tbody tr th {\n",
       "        vertical-align: top;\n",
       "    }\n",
       "\n",
       "    .dataframe thead th {\n",
       "        text-align: right;\n",
       "    }\n",
       "</style>\n",
       "<table border=\"1\" class=\"dataframe\">\n",
       "  <thead>\n",
       "    <tr style=\"text-align: right;\">\n",
       "      <th></th>\n",
       "      <th>funding_rounds</th>\n",
       "      <th>founded_year</th>\n",
       "      <th>debt_financing</th>\n",
       "      <th>grant</th>\n",
       "    </tr>\n",
       "  </thead>\n",
       "  <tbody>\n",
       "    <tr>\n",
       "      <th>0</th>\n",
       "      <td>1</td>\n",
       "      <td>2012.0</td>\n",
       "      <td>0</td>\n",
       "      <td>0</td>\n",
       "    </tr>\n",
       "    <tr>\n",
       "      <th>1</th>\n",
       "      <td>2</td>\n",
       "      <td>NaN</td>\n",
       "      <td>0</td>\n",
       "      <td>0</td>\n",
       "    </tr>\n",
       "    <tr>\n",
       "      <th>2</th>\n",
       "      <td>1</td>\n",
       "      <td>2012.0</td>\n",
       "      <td>0</td>\n",
       "      <td>0</td>\n",
       "    </tr>\n",
       "    <tr>\n",
       "      <th>3</th>\n",
       "      <td>1</td>\n",
       "      <td>2011.0</td>\n",
       "      <td>0</td>\n",
       "      <td>0</td>\n",
       "    </tr>\n",
       "    <tr>\n",
       "      <th>4</th>\n",
       "      <td>2</td>\n",
       "      <td>2014.0</td>\n",
       "      <td>0</td>\n",
       "      <td>0</td>\n",
       "    </tr>\n",
       "  </tbody>\n",
       "</table>\n",
       "</div>"
      ],
      "text/plain": [
       "   funding_rounds  founded_year  debt_financing  grant\n",
       "0               1        2012.0               0      0\n",
       "1               2           NaN               0      0\n",
       "2               1        2012.0               0      0\n",
       "3               1        2011.0               0      0\n",
       "4               2        2014.0               0      0"
      ]
     },
     "execution_count": 5,
     "metadata": {},
     "output_type": "execute_result"
    }
   ],
   "source": [
    "y= invest.select_dtypes(include= 'number')\n",
    "y.head()"
   ]
  },
  {
   "cell_type": "code",
   "execution_count": 6,
   "id": "071d54cf",
   "metadata": {},
   "outputs": [
    {
     "name": "stdout",
     "output_type": "stream",
     "text": [
      "<class 'pandas.core.frame.DataFrame'>\n",
      "RangeIndex: 49438 entries, 0 to 49437\n",
      "Data columns (total 14 columns):\n",
      " #   Column             Non-Null Count  Dtype  \n",
      "---  ------             --------------  -----  \n",
      " 0   name               49437 non-null  object \n",
      " 1   homepage_url       45989 non-null  object \n",
      " 2   category_list      45477 non-null  object \n",
      " 3   market             45470 non-null  object \n",
      " 4   funding_total_usd  49438 non-null  object \n",
      " 5   status             48124 non-null  object \n",
      " 6   country_code       44165 non-null  object \n",
      " 7   state_code         30161 non-null  object \n",
      " 8   region             44165 non-null  object \n",
      " 9   city               43322 non-null  object \n",
      " 10  funding_rounds     49438 non-null  int64  \n",
      " 11  founded_year       38482 non-null  float64\n",
      " 12  debt_financing     49438 non-null  int64  \n",
      " 13  grant              49438 non-null  int64  \n",
      "dtypes: float64(1), int64(3), object(10)\n",
      "memory usage: 5.3+ MB\n"
     ]
    }
   ],
   "source": [
    "invest.info()"
   ]
  },
  {
   "cell_type": "markdown",
   "id": "6d2ba9d4",
   "metadata": {},
   "source": [
    "#### 4. Create a dataframe with categorical columns."
   ]
  },
  {
   "cell_type": "code",
   "execution_count": 7,
   "id": "6e766ed1",
   "metadata": {},
   "outputs": [
    {
     "ename": "TypeError",
     "evalue": "'Index' object is not callable",
     "output_type": "error",
     "traceback": [
      "\u001b[1;31m---------------------------------------------------------------------------\u001b[0m",
      "\u001b[1;31mTypeError\u001b[0m                                 Traceback (most recent call last)",
      "\u001b[1;32m~\\AppData\\Local\\Temp\\ipykernel_8856\\1084459991.py\u001b[0m in \u001b[0;36m<module>\u001b[1;34m\u001b[0m\n\u001b[0;32m      1\u001b[0m \u001b[1;31m# invest.isnull().sum()\u001b[0m\u001b[1;33m\u001b[0m\u001b[1;33m\u001b[0m\u001b[0m\n\u001b[1;32m----> 2\u001b[1;33m \u001b[0minvest\u001b[0m\u001b[1;33m.\u001b[0m\u001b[0mselect_dtypes\u001b[0m\u001b[1;33m(\u001b[0m\u001b[0minclude\u001b[0m\u001b[1;33m=\u001b[0m \u001b[0mnp\u001b[0m\u001b[1;33m.\u001b[0m\u001b[0mobject\u001b[0m\u001b[1;33m)\u001b[0m\u001b[1;33m.\u001b[0m\u001b[0mcolumns\u001b[0m\u001b[1;33m(\u001b[0m\u001b[1;33m)\u001b[0m\u001b[1;33m\u001b[0m\u001b[1;33m\u001b[0m\u001b[0m\n\u001b[0m",
      "\u001b[1;31mTypeError\u001b[0m: 'Index' object is not callable"
     ]
    }
   ],
   "source": [
    "# invest.isnull().sum()\n",
    "invest.select_dtypes(include= np.object).columns()"
   ]
  },
  {
   "cell_type": "code",
   "execution_count": null,
   "id": "36ef7c0b",
   "metadata": {},
   "outputs": [],
   "source": [
    "z= invest.select_dtypes(include= 'object')\n",
    "z.head()"
   ]
  },
  {
   "cell_type": "markdown",
   "id": "01d7ca16",
   "metadata": {},
   "source": [
    "#### 5. Get a summary on the data and draw inferences if any"
   ]
  },
  {
   "cell_type": "code",
   "execution_count": null,
   "id": "66ca4560",
   "metadata": {},
   "outputs": [],
   "source": [
    "invest.describe()"
   ]
  },
  {
   "cell_type": "markdown",
   "id": "99d70fc0",
   "metadata": {},
   "source": [
    "#### 6. Display duplicate rows"
   ]
  },
  {
   "cell_type": "code",
   "execution_count": null,
   "id": "fc331e94",
   "metadata": {},
   "outputs": [],
   "source": [
    "# dupe_data= invest[invest.duplicated()]\n",
    "\n",
    "invest.duplicated().sum()"
   ]
  },
  {
   "cell_type": "markdown",
   "id": "a15e99a1",
   "metadata": {},
   "source": [
    "#### 7. For each column find out the percentage of missing values"
   ]
  },
  {
   "cell_type": "code",
   "execution_count": null,
   "id": "784a4cc7",
   "metadata": {},
   "outputs": [],
   "source": [
    "# percent = 100*(len(invest.loc[:, invest.isnull().sum(axis=0)>=1].index)/ len(invest.index))\n",
    "\n",
    "# print(round(percent,2))"
   ]
  },
  {
   "cell_type": "code",
   "execution_count": null,
   "id": "faba3ece",
   "metadata": {},
   "outputs": [],
   "source": [
    "cnt_= invest.isnull().sum()\n",
    "per_= cnt_*100/len(invest)\n",
    "\n",
    "pd.concat([pd.DataFrame(cnt_, columns= ['cnt']), pd.DataFrame(per_, columns= ['%age'])], axis=1).sort_values('cnt', ascending= False)"
   ]
  },
  {
   "cell_type": "code",
   "execution_count": null,
   "id": "fdeedfe2",
   "metadata": {},
   "outputs": [],
   "source": []
  },
  {
   "cell_type": "code",
   "execution_count": null,
   "id": "fb87efb6",
   "metadata": {},
   "outputs": [],
   "source": [
    "invest.isnull().sum()*100/len(invest)"
   ]
  },
  {
   "cell_type": "markdown",
   "id": "7cf93479",
   "metadata": {},
   "source": [
    "#### 8. Find count of ‘name’ in each ‘country_code’"
   ]
  },
  {
   "cell_type": "code",
   "execution_count": null,
   "id": "53dc6845",
   "metadata": {},
   "outputs": [],
   "source": [
    "invest['country_code'].value_counts()"
   ]
  },
  {
   "cell_type": "code",
   "execution_count": null,
   "id": "a4c1c757",
   "metadata": {},
   "outputs": [],
   "source": [
    "p = invest.groupby('country_code').agg({'name':np.count_nonzero})\n",
    "p"
   ]
  },
  {
   "cell_type": "code",
   "execution_count": null,
   "id": "a6d54342",
   "metadata": {},
   "outputs": [],
   "source": [
    "invest.groupby('country_code')['name'].count()"
   ]
  },
  {
   "cell_type": "code",
   "execution_count": null,
   "id": "4660e45b",
   "metadata": {},
   "outputs": [],
   "source": [
    "# n=invest['name'].groupby(invest['country_code']).tail()\n",
    "# print('country_code', n)"
   ]
  },
  {
   "cell_type": "markdown",
   "id": "d0f5bd9d",
   "metadata": {},
   "source": [
    "#### 9. What is the Display percentage of missing values in each column if any of the companies which have  status ‘acquired’ ‘operating’? "
   ]
  },
  {
   "cell_type": "code",
   "execution_count": null,
   "id": "a168eddf",
   "metadata": {},
   "outputs": [],
   "source": [
    "a = invest[~invest['status'].isin(['closed'])]"
   ]
  },
  {
   "cell_type": "code",
   "execution_count": null,
   "id": "ac03d42c",
   "metadata": {},
   "outputs": [],
   "source": []
  },
  {
   "cell_type": "code",
   "execution_count": null,
   "id": "fcd303c2",
   "metadata": {},
   "outputs": [],
   "source": [
    "a['status'].value_counts()"
   ]
  },
  {
   "cell_type": "code",
   "execution_count": null,
   "id": "afd7d9ac",
   "metadata": {},
   "outputs": [],
   "source": [
    "# a.isnull().sum()*100/len(invest)\n"
   ]
  },
  {
   "cell_type": "markdown",
   "id": "410c69c8",
   "metadata": {},
   "source": [
    "# \"\"\"correct programe is this\"\"\""
   ]
  },
  {
   "cell_type": "code",
   "execution_count": null,
   "id": "0afacd92",
   "metadata": {},
   "outputs": [],
   "source": [
    "invest[invest['status'].isin(['acquired', 'operating'])]['name'].count()*100/len(invest)"
   ]
  },
  {
   "cell_type": "code",
   "execution_count": null,
   "id": "6cc4ab4f",
   "metadata": {},
   "outputs": [],
   "source": []
  },
  {
   "cell_type": "code",
   "execution_count": null,
   "id": "7fa3eb49",
   "metadata": {},
   "outputs": [],
   "source": []
  },
  {
   "cell_type": "code",
   "execution_count": null,
   "id": "180933ac",
   "metadata": {},
   "outputs": [],
   "source": []
  },
  {
   "cell_type": "markdown",
   "id": "c71579e2",
   "metadata": {},
   "source": [
    "#### 10. What is the percentage of the companies which have status ‘acquired’ acquired? "
   ]
  },
  {
   "cell_type": "code",
   "execution_count": null,
   "id": "1fc6fe41",
   "metadata": {},
   "outputs": [],
   "source": [
    "x= invest['status'].value_counts()[['acquired']].sum()\n",
    "print(x)\n",
    "print(x*100/len(invest))\n"
   ]
  },
  {
   "cell_type": "markdown",
   "id": "638f8d68",
   "metadata": {},
   "source": [
    "#### 11. Filter records having missing values in column ‘year_founded’. "
   ]
  },
  {
   "cell_type": "code",
   "execution_count": null,
   "id": "494fc677",
   "metadata": {},
   "outputs": [],
   "source": [
    "f= invest['founded_year'].isnull()\n",
    "invest[f]"
   ]
  },
  {
   "cell_type": "code",
   "execution_count": null,
   "id": "5db79321",
   "metadata": {},
   "outputs": [],
   "source": []
  },
  {
   "cell_type": "markdown",
   "id": "e9b5ce60",
   "metadata": {},
   "source": [
    "#### 12. Create a column ‘category_list_count’ having count of category lists."
   ]
  },
  {
   "cell_type": "code",
   "execution_count": null,
   "id": "169b2611",
   "metadata": {},
   "outputs": [],
   "source": [
    "# invest['category_list_count']= invest.count('columns')\n"
   ]
  },
  {
   "cell_type": "code",
   "execution_count": null,
   "id": "b80c1d08",
   "metadata": {},
   "outputs": [],
   "source": [
    "invest['category_list_count']= invest.category_list.apply(lambda x: len(str(x).split('|'))-2)\n",
    "invest.loc[:,['category_list', 'category_list_count']].head()"
   ]
  },
  {
   "cell_type": "code",
   "execution_count": null,
   "id": "cd790853",
   "metadata": {},
   "outputs": [],
   "source": []
  },
  {
   "cell_type": "code",
   "execution_count": null,
   "id": "018a37a1",
   "metadata": {},
   "outputs": [],
   "source": []
  },
  {
   "cell_type": "markdown",
   "id": "73f8d246",
   "metadata": {},
   "source": [
    "#### 13. Find average funding_total_usd for each country_code. "
   ]
  },
  {
   "cell_type": "code",
   "execution_count": null,
   "id": "ed9736d6",
   "metadata": {},
   "outputs": [],
   "source": [
    "# lds= invest['funding_total_usd'].values.astype(np.int64)\n",
    "# lds.info()\n",
    "invest.funding_total_usd = invest.funding_total_usd.apply(lambda x: str(x).replace(',','').replace('-','0')).astype('float')\n",
    "# fnt= invest.groupby('country_code')['funding_total_usd'].mean()\n",
    "\n",
    "invest.groupby('country_code')['funding_total_usd'].mean()\n",
    "\n"
   ]
  },
  {
   "cell_type": "code",
   "execution_count": null,
   "id": "99a959c7",
   "metadata": {},
   "outputs": [],
   "source": [
    "invest.funding_total_usd = invest.funding_total_usd.apply(lambda x: str(x).replace(',','').replace('-','0')).astype('float')\n",
    "\n",
    "invest.groupby('country_code')['funding_total_usd'].mean()\n"
   ]
  },
  {
   "cell_type": "code",
   "execution_count": null,
   "id": "6d2c9d4e",
   "metadata": {},
   "outputs": [],
   "source": []
  },
  {
   "cell_type": "code",
   "execution_count": null,
   "id": "26f472a0",
   "metadata": {},
   "outputs": [],
   "source": []
  },
  {
   "cell_type": "markdown",
   "id": "ac5693e9",
   "metadata": {},
   "source": [
    "#### 14. Find total funding_total_usd for each country_code."
   ]
  },
  {
   "cell_type": "code",
   "execution_count": null,
   "id": "c8f7a558",
   "metadata": {},
   "outputs": [],
   "source": [
    "# invest['country_code'].value_counts().tail()"
   ]
  },
  {
   "cell_type": "code",
   "execution_count": null,
   "id": "400bb2ee",
   "metadata": {},
   "outputs": [],
   "source": [
    "fnt= invest.groupby(by='country_code', axis= 0)[['funding_total_usd']].sum() # dataframe\n",
    "fnt"
   ]
  },
  {
   "cell_type": "markdown",
   "id": "b8195dc8",
   "metadata": {},
   "source": [
    "#### 15. Find average funding_total_usd in each country_code and region"
   ]
  },
  {
   "cell_type": "code",
   "execution_count": null,
   "id": "ce2621ed",
   "metadata": {},
   "outputs": [],
   "source": [
    "#unable to get mean\n",
    "\n",
    "\n",
    "avg_funding= invest.groupby(by= ['country_code', 'region'])['funding_total_usd'].mean()\n",
    "avg_funding"
   ]
  },
  {
   "cell_type": "code",
   "execution_count": null,
   "id": "8b21bfba",
   "metadata": {},
   "outputs": [],
   "source": []
  },
  {
   "cell_type": "markdown",
   "id": "ac5b211b",
   "metadata": {},
   "source": [
    "#### 16. How many companies have got just 1 round of funding? "
   ]
  },
  {
   "cell_type": "code",
   "execution_count": null,
   "id": "ae2c9aae",
   "metadata": {},
   "outputs": [],
   "source": [
    "a= invest['funding_rounds'].astype(object)\n",
    "a.value_counts()[1]"
   ]
  },
  {
   "cell_type": "code",
   "execution_count": null,
   "id": "5bcb0fc5",
   "metadata": {},
   "outputs": [],
   "source": [
    "print(invest[invest.funding_rounds==1]['name'].count())\n",
    "print(invest[invest.funding_rounds==1]['name'].nunique())\n",
    "print(len(invest[invest.funding_rounds==1]['name'].unique()))\n",
    "print(len(invest[invest.funding_rounds==1]['name'].unique()))"
   ]
  },
  {
   "cell_type": "code",
   "execution_count": null,
   "id": "bb5b2ac4",
   "metadata": {},
   "outputs": [],
   "source": []
  },
  {
   "cell_type": "markdown",
   "id": "4a2b6853",
   "metadata": {},
   "source": [
    "#### 17. Perform mapping on status column; acquired -> A, operating -> O and closed -> C. "
   ]
  },
  {
   "cell_type": "code",
   "execution_count": null,
   "id": "6e11c47a",
   "metadata": {},
   "outputs": [],
   "source": [
    "maping_sts= invest['status'].apply( lambda x: 'A' if x== 'acquired' else 'O' if x== 'operating' else 'C')\n",
    "maping_sts"
   ]
  },
  {
   "cell_type": "code",
   "execution_count": null,
   "id": "2806b06f",
   "metadata": {},
   "outputs": [],
   "source": []
  },
  {
   "cell_type": "markdown",
   "id": "f564c1a1",
   "metadata": {},
   "source": [
    "#### 18. Create a column ‘homepage’ to store company name from ‘homepage_url’: For example: If the url is  http://www.waywire.com, name is waywire."
   ]
  },
  {
   "cell_type": "code",
   "execution_count": null,
   "id": "8efa11d5",
   "metadata": {},
   "outputs": [],
   "source": [
    "invest"
   ]
  },
  {
   "cell_type": "code",
   "execution_count": null,
   "id": "ad6a2baf",
   "metadata": {},
   "outputs": [],
   "source": [
    "import re\n",
    "invest['homepage']= invest['homepage_url'].apply(lambda x: re.sub('(http://|www.|.com|.org|http://www.)',\" \", str(x)))\n",
    "invest.loc[:, (['homepage_url', 'homepage'])]"
   ]
  },
  {
   "cell_type": "code",
   "execution_count": null,
   "id": "59a9dbf0",
   "metadata": {},
   "outputs": [],
   "source": []
  },
  {
   "cell_type": "markdown",
   "id": "2d26805e",
   "metadata": {},
   "source": [
    "#### 19. Find the count of companies in each of the markets."
   ]
  },
  {
   "cell_type": "code",
   "execution_count": null,
   "id": "e0b8928b",
   "metadata": {},
   "outputs": [],
   "source": [
    "count_company= invest.groupby(by= ['market'])['name'].count()\n",
    "count_company"
   ]
  },
  {
   "cell_type": "code",
   "execution_count": null,
   "id": "c56d6f8e",
   "metadata": {},
   "outputs": [],
   "source": []
  },
  {
   "cell_type": "markdown",
   "id": "5558cf88",
   "metadata": {},
   "source": [
    "#### 20. Find the count of companies in each of the markets and store the new column ‘cnt_name’ in the original  dataframe."
   ]
  },
  {
   "cell_type": "markdown",
   "id": "a37acf10",
   "metadata": {},
   "source": []
  },
  {
   "cell_type": "code",
   "execution_count": null,
   "id": "5a0fc2cb",
   "metadata": {},
   "outputs": [],
   "source": [
    "# invest.set_index(invest['cnt_name'].index)\n",
    "invest['cnt_name']= invest.groupby('market')['name'].transform('count')\n",
    "invest.loc[:,['market','cnt_name']]\n"
   ]
  },
  {
   "cell_type": "code",
   "execution_count": null,
   "id": "a5eaac24",
   "metadata": {},
   "outputs": [],
   "source": []
  },
  {
   "cell_type": "code",
   "execution_count": null,
   "id": "b5fd78be",
   "metadata": {},
   "outputs": [],
   "source": []
  },
  {
   "cell_type": "markdown",
   "id": "0e7598a9",
   "metadata": {},
   "source": [
    "#### 21. Fill missing values in column ‘city’ with ‘other_city’"
   ]
  },
  {
   "cell_type": "code",
   "execution_count": null,
   "id": "f7eaf0e5",
   "metadata": {},
   "outputs": [],
   "source": [
    "# invest['city'].replace(np.nan, 'other_city',inplace= True ) its is also right\n",
    "invest['city'].fillna('other_city')\n",
    "invest"
   ]
  },
  {
   "cell_type": "code",
   "execution_count": null,
   "id": "94356d6f",
   "metadata": {},
   "outputs": [],
   "source": []
  },
  {
   "cell_type": "markdown",
   "id": "881f0986",
   "metadata": {},
   "source": [
    "#### 22. Normalize ‘‘funding_total_usd’ at country level."
   ]
  },
  {
   "cell_type": "code",
   "execution_count": null,
   "id": "5b8658a4",
   "metadata": {},
   "outputs": [],
   "source": [
    "invest['country_code'].fillna('other_city_cd', inplace= True )\n",
    "\n",
    "invest.groupby('country_code')['funding_total_usd'].transform(lambda x: x-np.mean(x))\n"
   ]
  },
  {
   "cell_type": "code",
   "execution_count": null,
   "id": "ffb9aee1",
   "metadata": {},
   "outputs": [],
   "source": []
  },
  {
   "cell_type": "markdown",
   "id": "eeb6fba0",
   "metadata": {},
   "source": [
    "#### 23. What is the average ‘funding_total_usd’ for each city? "
   ]
  },
  {
   "cell_type": "code",
   "execution_count": null,
   "id": "b0bce2bd",
   "metadata": {},
   "outputs": [],
   "source": [
    "avg_funding = invest.groupby( by= 'city')['funding_total_usd'].mean()\n",
    "# x= invest[avg_funding]/ len(invest)\n",
    "print(avg_funding)"
   ]
  },
  {
   "cell_type": "code",
   "execution_count": null,
   "id": "5292accc",
   "metadata": {},
   "outputs": [],
   "source": [
    "avg_fund = invest.groupby('city')['funding_total_usd'].mean()\n",
    "avg_fund"
   ]
  },
  {
   "cell_type": "code",
   "execution_count": null,
   "id": "3a6feb98",
   "metadata": {},
   "outputs": [],
   "source": []
  },
  {
   "cell_type": "code",
   "execution_count": null,
   "id": "735a52ed",
   "metadata": {},
   "outputs": [],
   "source": []
  },
  {
   "cell_type": "markdown",
   "id": "2467805a",
   "metadata": {},
   "source": [
    "#### 24. Plot histogram/distribution of ‘funding_total_usd’ and provide insights if any."
   ]
  },
  {
   "cell_type": "code",
   "execution_count": null,
   "id": "0a310da3",
   "metadata": {},
   "outputs": [],
   "source": [
    "invest.funding_total_usd.hist()\n",
    "plt.xlabel('funding_total_usd')\n",
    "plt.ylabel('count')\n",
    "plt.title('Total Funding')\n",
    "plt.show()\n",
    "\n",
    "\n",
    "\n",
    "# sns.displot(invest.funding_total_usd)\n",
    "# plt.show()"
   ]
  },
  {
   "cell_type": "code",
   "execution_count": null,
   "id": "70f31f63",
   "metadata": {},
   "outputs": [],
   "source": [
    "plt.hist(np.log1p(invest.funding_total_usd))\n",
    "plt.xlabel('funding_total_usd')\n",
    "plt.ylabel('count')\n",
    "plt.title('total funding distribution')\n",
    "plt.show()"
   ]
  },
  {
   "cell_type": "code",
   "execution_count": null,
   "id": "d31c70d0",
   "metadata": {},
   "outputs": [],
   "source": []
  },
  {
   "cell_type": "markdown",
   "id": "0adda057",
   "metadata": {},
   "source": [
    "#### 25. What is maximum ‘funding_total_usd’ for each market status?"
   ]
  },
  {
   "cell_type": "code",
   "execution_count": null,
   "id": "d03f7d95",
   "metadata": {},
   "outputs": [],
   "source": [
    "invest.groupby('market')['funding_total_usd'].max()"
   ]
  },
  {
   "cell_type": "code",
   "execution_count": null,
   "id": "a7ade844",
   "metadata": {},
   "outputs": [],
   "source": []
  },
  {
   "cell_type": "code",
   "execution_count": null,
   "id": "5c7d09d7",
   "metadata": {},
   "outputs": [],
   "source": []
  },
  {
   "cell_type": "markdown",
   "id": "4a2c3fc9",
   "metadata": {},
   "source": [
    "#### 26. How many years has it been since each company was founded?"
   ]
  },
  {
   "cell_type": "code",
   "execution_count": null,
   "id": "a414a7a7",
   "metadata": {},
   "outputs": [],
   "source": [
    "from datetime import datetime\n",
    "datetime.today().year - invest['founded_year']"
   ]
  },
  {
   "cell_type": "code",
   "execution_count": null,
   "id": "a9247b0a",
   "metadata": {},
   "outputs": [],
   "source": []
  },
  {
   "cell_type": "markdown",
   "id": "b84f778d",
   "metadata": {},
   "source": [
    "#### 27. Visualize ‘grant’ distribution."
   ]
  },
  {
   "cell_type": "code",
   "execution_count": null,
   "id": "9f835b10",
   "metadata": {},
   "outputs": [],
   "source": [
    "invest.grant.hist()\n",
    "plt.xlabel('Grant')\n",
    "plt.ylabel('count')\n",
    "plt.title('Grant Distribution')\n",
    "plt.show()"
   ]
  },
  {
   "cell_type": "code",
   "execution_count": null,
   "id": "e9336b67",
   "metadata": {},
   "outputs": [],
   "source": [
    "plt.hist(np.log1p(invest.grant))\n",
    "plt.xlabel('Grant')\n",
    "plt.ylabel('count')\n",
    "plt.title('log Grant Distribution')\n",
    "plt.show()"
   ]
  },
  {
   "cell_type": "code",
   "execution_count": null,
   "id": "2e0398a3",
   "metadata": {},
   "outputs": [],
   "source": []
  },
  {
   "cell_type": "markdown",
   "id": "2adbc39a",
   "metadata": {},
   "source": [
    "#### 28. `Visualize ‘debt_financing’ distribution."
   ]
  },
  {
   "cell_type": "code",
   "execution_count": null,
   "id": "5f8910d4",
   "metadata": {},
   "outputs": [],
   "source": [
    "invest.debt_financing.hist()\n",
    "plt.xlabel('Debt')\n",
    "plt.ylabel('count')\n",
    "plt.title(' Debt Financing')\n",
    "plt.show()"
   ]
  },
  {
   "cell_type": "code",
   "execution_count": null,
   "id": "a3ee0c9e",
   "metadata": {},
   "outputs": [],
   "source": [
    "plt.hist(np.log1p(invest.debt_financing))\n",
    "plt.xlabel('Debt')\n",
    "plt.ylabel('count')\n",
    "plt.title('debt finanancing')\n",
    "plt.show()"
   ]
  },
  {
   "cell_type": "code",
   "execution_count": null,
   "id": "a44f1a42",
   "metadata": {},
   "outputs": [],
   "source": []
  },
  {
   "cell_type": "markdown",
   "id": "cc2216c8",
   "metadata": {},
   "source": [
    "#### 29.\tDisplay proportion of companies status."
   ]
  },
  {
   "cell_type": "code",
   "execution_count": null,
   "id": "33cf2c93",
   "metadata": {},
   "outputs": [],
   "source": [
    "invest.status.value_counts()/invest.shape[0]*100"
   ]
  },
  {
   "cell_type": "code",
   "execution_count": null,
   "id": "ca9cd8c1",
   "metadata": {},
   "outputs": [],
   "source": []
  },
  {
   "cell_type": "markdown",
   "id": "0124a71b",
   "metadata": {},
   "source": [
    "#### 30. How many US states are available?"
   ]
  },
  {
   "cell_type": "code",
   "execution_count": null,
   "id": "f4aa308a",
   "metadata": {},
   "outputs": [],
   "source": [
    "invest.country_code.value_counts('USA').nunique()"
   ]
  },
  {
   "cell_type": "code",
   "execution_count": null,
   "id": "7f215772",
   "metadata": {},
   "outputs": [],
   "source": [
    "invest[invest.country_code== 'USA']['state_code'].nunique()"
   ]
  },
  {
   "cell_type": "code",
   "execution_count": null,
   "id": "da0e0168",
   "metadata": {},
   "outputs": [],
   "source": []
  },
  {
   "cell_type": "markdown",
   "id": "d04cf6c0",
   "metadata": {},
   "source": [
    "#### 31. create column ‘cmt_address’ by joining country code, state code, region and List item."
   ]
  },
  {
   "cell_type": "code",
   "execution_count": null,
   "id": "7b8cd01e",
   "metadata": {},
   "outputs": [],
   "source": [
    "invest['cmt_address'] = invest.country_code+ ' '+np.where(invest.state_code.isna(),'_',invest.state_code)+ invest.region\n",
    "invest"
   ]
  },
  {
   "cell_type": "code",
   "execution_count": null,
   "id": "9196b0ba",
   "metadata": {},
   "outputs": [],
   "source": []
  },
  {
   "cell_type": "markdown",
   "id": "4a5d94b5",
   "metadata": {},
   "source": [
    "#### 32. select columns with underscore in their names."
   ]
  },
  {
   "cell_type": "code",
   "execution_count": null,
   "id": "5d9954cf",
   "metadata": {},
   "outputs": [],
   "source": []
  },
  {
   "cell_type": "code",
   "execution_count": null,
   "id": "8f6c8076",
   "metadata": {},
   "outputs": [],
   "source": [
    "invest.filter(regex= '_').columns"
   ]
  },
  {
   "cell_type": "code",
   "execution_count": null,
   "id": "fca498bf",
   "metadata": {},
   "outputs": [],
   "source": []
  },
  {
   "cell_type": "code",
   "execution_count": null,
   "id": "1985f9ce",
   "metadata": {},
   "outputs": [],
   "source": [
    "invest"
   ]
  },
  {
   "cell_type": "code",
   "execution_count": null,
   "id": "36b136ba",
   "metadata": {},
   "outputs": [],
   "source": []
  },
  {
   "cell_type": "code",
   "execution_count": null,
   "id": "2d9057b5",
   "metadata": {},
   "outputs": [],
   "source": []
  },
  {
   "cell_type": "code",
   "execution_count": null,
   "id": "bd630f33",
   "metadata": {},
   "outputs": [],
   "source": []
  },
  {
   "cell_type": "code",
   "execution_count": null,
   "id": "071e1b13",
   "metadata": {},
   "outputs": [],
   "source": []
  },
  {
   "cell_type": "code",
   "execution_count": null,
   "id": "cd6adcb0",
   "metadata": {},
   "outputs": [],
   "source": []
  },
  {
   "cell_type": "code",
   "execution_count": null,
   "id": "13a5f218",
   "metadata": {},
   "outputs": [],
   "source": []
  },
  {
   "cell_type": "code",
   "execution_count": null,
   "id": "a81a0961",
   "metadata": {},
   "outputs": [],
   "source": []
  },
  {
   "cell_type": "code",
   "execution_count": null,
   "id": "d51728e1",
   "metadata": {},
   "outputs": [],
   "source": []
  },
  {
   "cell_type": "code",
   "execution_count": null,
   "id": "47fef6ac",
   "metadata": {},
   "outputs": [],
   "source": []
  },
  {
   "cell_type": "code",
   "execution_count": null,
   "id": "cf702956",
   "metadata": {},
   "outputs": [],
   "source": []
  }
 ],
 "metadata": {
  "kernelspec": {
   "display_name": "Python 3 (ipykernel)",
   "language": "python",
   "name": "python3"
  },
  "language_info": {
   "codemirror_mode": {
    "name": "ipython",
    "version": 3
   },
   "file_extension": ".py",
   "mimetype": "text/x-python",
   "name": "python",
   "nbconvert_exporter": "python",
   "pygments_lexer": "ipython3",
   "version": "3.9.13"
  }
 },
 "nbformat": 4,
 "nbformat_minor": 5
}
